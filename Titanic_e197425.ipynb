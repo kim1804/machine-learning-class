{
 "cells": [
  {
   "cell_type": "code",
   "execution_count": 1,
   "metadata": {},
   "outputs": [
    {
     "data": {
      "text/html": [
       "<div>\n",
       "<style scoped>\n",
       "    .dataframe tbody tr th:only-of-type {\n",
       "        vertical-align: middle;\n",
       "    }\n",
       "\n",
       "    .dataframe tbody tr th {\n",
       "        vertical-align: top;\n",
       "    }\n",
       "\n",
       "    .dataframe thead th {\n",
       "        text-align: right;\n",
       "    }\n",
       "</style>\n",
       "<table border=\"1\" class=\"dataframe\">\n",
       "  <thead>\n",
       "    <tr style=\"text-align: right;\">\n",
       "      <th></th>\n",
       "      <th>PassengerId</th>\n",
       "      <th>Survived</th>\n",
       "      <th>Name</th>\n",
       "      <th>Sex</th>\n",
       "      <th>Age</th>\n",
       "      <th>Siblings - Spouse</th>\n",
       "      <th>Parents - Children</th>\n",
       "      <th>Ticket</th>\n",
       "      <th>Ticket class</th>\n",
       "      <th>Fare</th>\n",
       "      <th>Cabin</th>\n",
       "      <th>Port of embarkation</th>\n",
       "    </tr>\n",
       "  </thead>\n",
       "  <tbody>\n",
       "    <tr>\n",
       "      <td>0</td>\n",
       "      <td>1</td>\n",
       "      <td>0.0</td>\n",
       "      <td>Braund, Mr. Owen Harris</td>\n",
       "      <td>male</td>\n",
       "      <td>22.0</td>\n",
       "      <td>1</td>\n",
       "      <td>0</td>\n",
       "      <td>A/5 21171</td>\n",
       "      <td>3</td>\n",
       "      <td>7.2500</td>\n",
       "      <td>NaN</td>\n",
       "      <td>S</td>\n",
       "    </tr>\n",
       "    <tr>\n",
       "      <td>1</td>\n",
       "      <td>2</td>\n",
       "      <td>1.0</td>\n",
       "      <td>Cumings, Mrs. John Bradley (Florence Briggs Th...</td>\n",
       "      <td>female</td>\n",
       "      <td>38.0</td>\n",
       "      <td>1</td>\n",
       "      <td>0</td>\n",
       "      <td>PC 17599</td>\n",
       "      <td>1</td>\n",
       "      <td>71.2833</td>\n",
       "      <td>C85</td>\n",
       "      <td>C</td>\n",
       "    </tr>\n",
       "    <tr>\n",
       "      <td>2</td>\n",
       "      <td>3</td>\n",
       "      <td>1.0</td>\n",
       "      <td>Heikkinen, Miss. Laina</td>\n",
       "      <td>female</td>\n",
       "      <td>26.0</td>\n",
       "      <td>0</td>\n",
       "      <td>0</td>\n",
       "      <td>STON/O2. 3101282</td>\n",
       "      <td>3</td>\n",
       "      <td>7.9250</td>\n",
       "      <td>NaN</td>\n",
       "      <td>S</td>\n",
       "    </tr>\n",
       "    <tr>\n",
       "      <td>3</td>\n",
       "      <td>4</td>\n",
       "      <td>1.0</td>\n",
       "      <td>Futrelle, Mrs. Jacques Heath (Lily May Peel)</td>\n",
       "      <td>female</td>\n",
       "      <td>35.0</td>\n",
       "      <td>1</td>\n",
       "      <td>0</td>\n",
       "      <td>113803</td>\n",
       "      <td>1</td>\n",
       "      <td>53.1000</td>\n",
       "      <td>C123</td>\n",
       "      <td>S</td>\n",
       "    </tr>\n",
       "    <tr>\n",
       "      <td>4</td>\n",
       "      <td>5</td>\n",
       "      <td>0.0</td>\n",
       "      <td>Allen, Mr. William Henry</td>\n",
       "      <td>male</td>\n",
       "      <td>35.0</td>\n",
       "      <td>0</td>\n",
       "      <td>0</td>\n",
       "      <td>373450</td>\n",
       "      <td>3</td>\n",
       "      <td>8.0500</td>\n",
       "      <td>NaN</td>\n",
       "      <td>S</td>\n",
       "    </tr>\n",
       "    <tr>\n",
       "      <td>...</td>\n",
       "      <td>...</td>\n",
       "      <td>...</td>\n",
       "      <td>...</td>\n",
       "      <td>...</td>\n",
       "      <td>...</td>\n",
       "      <td>...</td>\n",
       "      <td>...</td>\n",
       "      <td>...</td>\n",
       "      <td>...</td>\n",
       "      <td>...</td>\n",
       "      <td>...</td>\n",
       "      <td>...</td>\n",
       "    </tr>\n",
       "    <tr>\n",
       "      <td>1304</td>\n",
       "      <td>1305</td>\n",
       "      <td>NaN</td>\n",
       "      <td>Spector, Mr. Woolf</td>\n",
       "      <td>male</td>\n",
       "      <td>NaN</td>\n",
       "      <td>0</td>\n",
       "      <td>0</td>\n",
       "      <td>A.5. 3236</td>\n",
       "      <td>3</td>\n",
       "      <td>8.0500</td>\n",
       "      <td>NaN</td>\n",
       "      <td>S</td>\n",
       "    </tr>\n",
       "    <tr>\n",
       "      <td>1305</td>\n",
       "      <td>1306</td>\n",
       "      <td>NaN</td>\n",
       "      <td>Oliva y Ocana, Dona. Fermina</td>\n",
       "      <td>female</td>\n",
       "      <td>39.0</td>\n",
       "      <td>0</td>\n",
       "      <td>0</td>\n",
       "      <td>PC 17758</td>\n",
       "      <td>1</td>\n",
       "      <td>108.9000</td>\n",
       "      <td>C105</td>\n",
       "      <td>C</td>\n",
       "    </tr>\n",
       "    <tr>\n",
       "      <td>1306</td>\n",
       "      <td>1307</td>\n",
       "      <td>NaN</td>\n",
       "      <td>Saether, Mr. Simon Sivertsen</td>\n",
       "      <td>male</td>\n",
       "      <td>38.5</td>\n",
       "      <td>0</td>\n",
       "      <td>0</td>\n",
       "      <td>SOTON/O.Q. 3101262</td>\n",
       "      <td>3</td>\n",
       "      <td>7.2500</td>\n",
       "      <td>NaN</td>\n",
       "      <td>S</td>\n",
       "    </tr>\n",
       "    <tr>\n",
       "      <td>1307</td>\n",
       "      <td>1308</td>\n",
       "      <td>NaN</td>\n",
       "      <td>Ware, Mr. Frederick</td>\n",
       "      <td>male</td>\n",
       "      <td>NaN</td>\n",
       "      <td>0</td>\n",
       "      <td>0</td>\n",
       "      <td>359309</td>\n",
       "      <td>3</td>\n",
       "      <td>8.0500</td>\n",
       "      <td>NaN</td>\n",
       "      <td>S</td>\n",
       "    </tr>\n",
       "    <tr>\n",
       "      <td>1308</td>\n",
       "      <td>1309</td>\n",
       "      <td>NaN</td>\n",
       "      <td>Peter, Master. Michael J</td>\n",
       "      <td>male</td>\n",
       "      <td>NaN</td>\n",
       "      <td>1</td>\n",
       "      <td>1</td>\n",
       "      <td>2668</td>\n",
       "      <td>3</td>\n",
       "      <td>22.3583</td>\n",
       "      <td>NaN</td>\n",
       "      <td>C</td>\n",
       "    </tr>\n",
       "  </tbody>\n",
       "</table>\n",
       "<p>1309 rows × 12 columns</p>\n",
       "</div>"
      ],
      "text/plain": [
       "      PassengerId  Survived  \\\n",
       "0               1       0.0   \n",
       "1               2       1.0   \n",
       "2               3       1.0   \n",
       "3               4       1.0   \n",
       "4               5       0.0   \n",
       "...           ...       ...   \n",
       "1304         1305       NaN   \n",
       "1305         1306       NaN   \n",
       "1306         1307       NaN   \n",
       "1307         1308       NaN   \n",
       "1308         1309       NaN   \n",
       "\n",
       "                                                   Name     Sex   Age  \\\n",
       "0                               Braund, Mr. Owen Harris    male  22.0   \n",
       "1     Cumings, Mrs. John Bradley (Florence Briggs Th...  female  38.0   \n",
       "2                                Heikkinen, Miss. Laina  female  26.0   \n",
       "3          Futrelle, Mrs. Jacques Heath (Lily May Peel)  female  35.0   \n",
       "4                              Allen, Mr. William Henry    male  35.0   \n",
       "...                                                 ...     ...   ...   \n",
       "1304                                 Spector, Mr. Woolf    male   NaN   \n",
       "1305                       Oliva y Ocana, Dona. Fermina  female  39.0   \n",
       "1306                       Saether, Mr. Simon Sivertsen    male  38.5   \n",
       "1307                                Ware, Mr. Frederick    male   NaN   \n",
       "1308                           Peter, Master. Michael J    male   NaN   \n",
       "\n",
       "      Siblings - Spouse  Parents - Children              Ticket  Ticket class  \\\n",
       "0                     1                   0           A/5 21171             3   \n",
       "1                     1                   0            PC 17599             1   \n",
       "2                     0                   0    STON/O2. 3101282             3   \n",
       "3                     1                   0              113803             1   \n",
       "4                     0                   0              373450             3   \n",
       "...                 ...                 ...                 ...           ...   \n",
       "1304                  0                   0           A.5. 3236             3   \n",
       "1305                  0                   0            PC 17758             1   \n",
       "1306                  0                   0  SOTON/O.Q. 3101262             3   \n",
       "1307                  0                   0              359309             3   \n",
       "1308                  1                   1                2668             3   \n",
       "\n",
       "          Fare Cabin Port of embarkation  \n",
       "0       7.2500   NaN                   S  \n",
       "1      71.2833   C85                   C  \n",
       "2       7.9250   NaN                   S  \n",
       "3      53.1000  C123                   S  \n",
       "4       8.0500   NaN                   S  \n",
       "...        ...   ...                 ...  \n",
       "1304    8.0500   NaN                   S  \n",
       "1305  108.9000  C105                   C  \n",
       "1306    7.2500   NaN                   S  \n",
       "1307    8.0500   NaN                   S  \n",
       "1308   22.3583   NaN                   C  \n",
       "\n",
       "[1309 rows x 12 columns]"
      ]
     },
     "execution_count": 1,
     "metadata": {},
     "output_type": "execute_result"
    }
   ],
   "source": [
    "import pandas as pd\n",
    "#to read a cvs file using a pandas\n",
    "df = pd.read_csv(\"Titanic_data.csv\")\n",
    "df"
   ]
  },
  {
   "cell_type": "code",
   "execution_count": 2,
   "metadata": {},
   "outputs": [
    {
     "data": {
      "text/plain": [
       "1309"
      ]
     },
     "execution_count": 2,
     "metadata": {},
     "output_type": "execute_result"
    }
   ],
   "source": [
    "# Question 1 : How many people are in titanic and how many survivors?\n",
    "\n",
    "len(df[df[\"PassengerId\"]!=0]) #we have int total 1309 passangers"
   ]
  },
  {
   "cell_type": "code",
   "execution_count": 3,
   "metadata": {},
   "outputs": [
    {
     "data": {
      "text/plain": [
       "342"
      ]
     },
     "execution_count": 3,
     "metadata": {},
     "output_type": "execute_result"
    }
   ],
   "source": [
    "len(df[df[\"Survived\"]==1]) #we have in total 342 survivors"
   ]
  },
  {
   "cell_type": "code",
   "execution_count": 4,
   "metadata": {},
   "outputs": [
    {
     "data": {
      "text/plain": [
       "466"
      ]
     },
     "execution_count": 4,
     "metadata": {},
     "output_type": "execute_result"
    }
   ],
   "source": [
    "# Question 2 : How many that survived were female and how many that died were female?\n",
    "len(df[df[\"Sex\"]==\"female\"]) #we have in total 466 females"
   ]
  },
  {
   "cell_type": "code",
   "execution_count": 5,
   "metadata": {},
   "outputs": [
    {
     "data": {
      "text/plain": [
       "233"
      ]
     },
     "execution_count": 5,
     "metadata": {},
     "output_type": "execute_result"
    }
   ],
   "source": [
    "len(df[(df[\"Sex\"]==\"female\") & (df[\"Survived\"]==1)]) #233 females survived, so 233 females died"
   ]
  },
  {
   "cell_type": "code",
   "execution_count": 6,
   "metadata": {},
   "outputs": [
    {
     "data": {
      "text/plain": [
       "134"
      ]
     },
     "execution_count": 6,
     "metadata": {},
     "output_type": "execute_result"
    }
   ],
   "source": [
    "# Question 3 : How many children were on the titanic?\n",
    "len(df[df[\"Age\"]<17]) #134"
   ]
  },
  {
   "cell_type": "code",
   "execution_count": 7,
   "metadata": {},
   "outputs": [
    {
     "data": {
      "text/plain": [
       "45"
      ]
     },
     "execution_count": 7,
     "metadata": {},
     "output_type": "execute_result"
    }
   ],
   "source": [
    "# Question 4 : How many children died that were on the ship?\n",
    "len(df[(df[\"Age\"]<17) & (df[\"Survived\"]==0)]) #45"
   ]
  },
  {
   "cell_type": "code",
   "execution_count": 8,
   "metadata": {},
   "outputs": [
    {
     "data": {
      "text/plain": [
       "519"
      ]
     },
     "execution_count": 8,
     "metadata": {},
     "output_type": "execute_result"
    }
   ],
   "source": [
    "# Question 5 : How many people had families with them?\n",
    "len(df[(df[\"Siblings - Spouse\"]!=0) | (df[\"Parents - Children\"]!=0)]) #519 \"|\" is \"or\""
   ]
  },
  {
   "cell_type": "code",
   "execution_count": 9,
   "metadata": {},
   "outputs": [
    {
     "name": "stdout",
     "output_type": "stream",
     "text": [
      "0.5527876631079478\n"
     ]
    }
   ],
   "source": [
    "# Question 6 : What is the ratio of female to male?\n",
    "len(df[df[\"Sex\"]==\"male\"]) \n",
    "\n",
    "print(len(df[df[\"Sex\"]==\"female\"])/len(df[df[\"Sex\"]==\"male\"])) #ratio is 0,5528"
   ]
  },
  {
   "cell_type": "code",
   "execution_count": 10,
   "metadata": {},
   "outputs": [],
   "source": [
    "# Question 7 : What contributed to the survival of those who survived?\n",
    "\n",
    "#I want to find correlation between survival variable and the rest of df,\n",
    "#but some data are categorical and needs to be transformed into number\n",
    "\n",
    "def f(row):\n",
    "    if row['Sex'] == \"female\":\n",
    "        val = 1\n",
    "    else:\n",
    "        val = 0\n",
    "    return val"
   ]
  },
  {
   "cell_type": "code",
   "execution_count": 19,
   "metadata": {},
   "outputs": [
    {
     "name": "stdout",
     "output_type": "stream",
     "text": [
      "      Survived     Sex   Age  Siblings - Spouse  Parents - Children  \\\n",
      "0          0.0    male  22.0                  1                   0   \n",
      "1          1.0  female  38.0                  1                   0   \n",
      "2          1.0  female  26.0                  0                   0   \n",
      "3          1.0  female  35.0                  1                   0   \n",
      "4          0.0    male  35.0                  0                   0   \n",
      "...        ...     ...   ...                ...                 ...   \n",
      "1304       NaN    male   NaN                  0                   0   \n",
      "1305       NaN  female  39.0                  0                   0   \n",
      "1306       NaN    male  38.5                  0                   0   \n",
      "1307       NaN    male   NaN                  0                   0   \n",
      "1308       NaN    male   NaN                  1                   1   \n",
      "\n",
      "      Ticket class Port of embarkation  \n",
      "0                3                   S  \n",
      "1                1                   C  \n",
      "2                3                   S  \n",
      "3                1                   S  \n",
      "4                3                   S  \n",
      "...            ...                 ...  \n",
      "1304             3                   S  \n",
      "1305             1                   C  \n",
      "1306             3                   S  \n",
      "1307             3                   S  \n",
      "1308             3                   C  \n",
      "\n",
      "[1309 rows x 7 columns]\n"
     ]
    }
   ],
   "source": [
    "correlation = df \n",
    "correlation = correlation.drop(['PassengerId',\"Name\",\"Ticket\", \"Fare\",\"Cabin\"], axis = 1) \n",
    "print(dfcorr)"
   ]
  },
  {
   "cell_type": "code",
   "execution_count": 20,
   "metadata": {},
   "outputs": [],
   "source": [
    "#until here, is fine but I still need to change \"one to many\" the \"Port of embarkation\"\n",
    "#first I change to shorter name\n",
    "correlation = correlation.rename(columns={\"Port of embarkation\": \"PortofEmb\"})"
   ]
  },
  {
   "cell_type": "code",
   "execution_count": 21,
   "metadata": {},
   "outputs": [],
   "source": [
    "#define one to many function\n",
    "def g(row):\n",
    "    if row[\"PortofEmb\"] == \"S\":\n",
    "        va = 1\n",
    "    elif row[\"PortofEmb\"] == \"Q\":\n",
    "        va = -1\n",
    "    else:\n",
    "        va = 0 ##\"C\"\n",
    "    return va"
   ]
  },
  {
   "cell_type": "code",
   "execution_count": 22,
   "metadata": {},
   "outputs": [],
   "source": [
    "#create column one to many\n",
    "correlation[\"PortofEmb2\"] = correlation.apply(g, axis=1) "
   ]
  },
  {
   "cell_type": "code",
   "execution_count": 23,
   "metadata": {},
   "outputs": [
    {
     "name": "stdout",
     "output_type": "stream",
     "text": [
      "      Survived     Sex   Age  Siblings - Spouse  Parents - Children  \\\n",
      "0          0.0    male  22.0                  1                   0   \n",
      "1          1.0  female  38.0                  1                   0   \n",
      "2          1.0  female  26.0                  0                   0   \n",
      "3          1.0  female  35.0                  1                   0   \n",
      "4          0.0    male  35.0                  0                   0   \n",
      "...        ...     ...   ...                ...                 ...   \n",
      "1304       NaN    male   NaN                  0                   0   \n",
      "1305       NaN  female  39.0                  0                   0   \n",
      "1306       NaN    male  38.5                  0                   0   \n",
      "1307       NaN    male   NaN                  0                   0   \n",
      "1308       NaN    male   NaN                  1                   1   \n",
      "\n",
      "      Ticket class  PortofEmb2  \n",
      "0                3           1  \n",
      "1                1           0  \n",
      "2                3           1  \n",
      "3                1           1  \n",
      "4                3           1  \n",
      "...            ...         ...  \n",
      "1304             3           1  \n",
      "1305             1           0  \n",
      "1306             3           1  \n",
      "1307             3           1  \n",
      "1308             3           0  \n",
      "\n",
      "[1309 rows x 7 columns]\n"
     ]
    }
   ],
   "source": [
    "correlation= correlation.drop([\"PortofEmb\"],axis =1) #and delete the string column\n",
    "print(correlation) #now here we only have numerical variables"
   ]
  },
  {
   "cell_type": "code",
   "execution_count": 24,
   "metadata": {},
   "outputs": [
    {
     "data": {
      "text/html": [
       "<div>\n",
       "<style scoped>\n",
       "    .dataframe tbody tr th:only-of-type {\n",
       "        vertical-align: middle;\n",
       "    }\n",
       "\n",
       "    .dataframe tbody tr th {\n",
       "        vertical-align: top;\n",
       "    }\n",
       "\n",
       "    .dataframe thead th {\n",
       "        text-align: right;\n",
       "    }\n",
       "</style>\n",
       "<table border=\"1\" class=\"dataframe\">\n",
       "  <thead>\n",
       "    <tr style=\"text-align: right;\">\n",
       "      <th></th>\n",
       "      <th>Survived</th>\n",
       "      <th>Age</th>\n",
       "      <th>Siblings - Spouse</th>\n",
       "      <th>Parents - Children</th>\n",
       "      <th>Ticket class</th>\n",
       "      <th>PortofEmb2</th>\n",
       "    </tr>\n",
       "  </thead>\n",
       "  <tbody>\n",
       "    <tr>\n",
       "      <td>Survived</td>\n",
       "      <td>1.000000</td>\n",
       "      <td>-0.077221</td>\n",
       "      <td>-0.035322</td>\n",
       "      <td>0.081629</td>\n",
       "      <td>-0.338481</td>\n",
       "      <td>-0.111203</td>\n",
       "    </tr>\n",
       "    <tr>\n",
       "      <td>Age</td>\n",
       "      <td>-0.077221</td>\n",
       "      <td>1.000000</td>\n",
       "      <td>-0.243699</td>\n",
       "      <td>-0.150917</td>\n",
       "      <td>-0.408106</td>\n",
       "      <td>-0.052180</td>\n",
       "    </tr>\n",
       "    <tr>\n",
       "      <td>Siblings - Spouse</td>\n",
       "      <td>-0.035322</td>\n",
       "      <td>-0.243699</td>\n",
       "      <td>1.000000</td>\n",
       "      <td>0.373587</td>\n",
       "      <td>0.060832</td>\n",
       "      <td>0.074554</td>\n",
       "    </tr>\n",
       "    <tr>\n",
       "      <td>Parents - Children</td>\n",
       "      <td>0.081629</td>\n",
       "      <td>-0.150917</td>\n",
       "      <td>0.373587</td>\n",
       "      <td>1.000000</td>\n",
       "      <td>0.018322</td>\n",
       "      <td>0.096528</td>\n",
       "    </tr>\n",
       "    <tr>\n",
       "      <td>Ticket class</td>\n",
       "      <td>-0.338481</td>\n",
       "      <td>-0.408106</td>\n",
       "      <td>0.060832</td>\n",
       "      <td>0.018322</td>\n",
       "      <td>1.000000</td>\n",
       "      <td>-0.035246</td>\n",
       "    </tr>\n",
       "    <tr>\n",
       "      <td>PortofEmb2</td>\n",
       "      <td>-0.111203</td>\n",
       "      <td>-0.052180</td>\n",
       "      <td>0.074554</td>\n",
       "      <td>0.096528</td>\n",
       "      <td>-0.035246</td>\n",
       "      <td>1.000000</td>\n",
       "    </tr>\n",
       "  </tbody>\n",
       "</table>\n",
       "</div>"
      ],
      "text/plain": [
       "                    Survived       Age  Siblings - Spouse  Parents - Children  \\\n",
       "Survived            1.000000 -0.077221          -0.035322            0.081629   \n",
       "Age                -0.077221  1.000000          -0.243699           -0.150917   \n",
       "Siblings - Spouse  -0.035322 -0.243699           1.000000            0.373587   \n",
       "Parents - Children  0.081629 -0.150917           0.373587            1.000000   \n",
       "Ticket class       -0.338481 -0.408106           0.060832            0.018322   \n",
       "PortofEmb2         -0.111203 -0.052180           0.074554            0.096528   \n",
       "\n",
       "                    Ticket class  PortofEmb2  \n",
       "Survived               -0.338481   -0.111203  \n",
       "Age                    -0.408106   -0.052180  \n",
       "Siblings - Spouse       0.060832    0.074554  \n",
       "Parents - Children      0.018322    0.096528  \n",
       "Ticket class            1.000000   -0.035246  \n",
       "PortofEmb2             -0.035246    1.000000  "
      ]
     },
     "execution_count": 24,
     "metadata": {},
     "output_type": "execute_result"
    }
   ],
   "source": [
    "correlation.corr() #here we have the correlation matrix."
   ]
  }
 ],
 "metadata": {
  "kernelspec": {
   "display_name": "Python 3",
   "language": "python",
   "name": "python3"
  },
  "language_info": {
   "codemirror_mode": {
    "name": "ipython",
    "version": 3
   },
   "file_extension": ".py",
   "mimetype": "text/x-python",
   "name": "python",
   "nbconvert_exporter": "python",
   "pygments_lexer": "ipython3",
   "version": "3.7.4"
  }
 },
 "nbformat": 4,
 "nbformat_minor": 4
}
